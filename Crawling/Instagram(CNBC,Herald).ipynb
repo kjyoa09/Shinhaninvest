{
 "cells": [
  {
   "cell_type": "code",
   "execution_count": 6,
   "metadata": {},
   "outputs": [],
   "source": [
    "from selenium import webdriver\n",
    "import json\n",
    "import pandas as pd\n",
    "from bs4 import BeautifulSoup\n",
    "import datetime\n",
    "import time"
   ]
  },
  {
   "cell_type": "code",
   "execution_count": 58,
   "metadata": {},
   "outputs": [],
   "source": [
    "ID = []\n",
    "Like_count = []\n",
    "Comment_count = []\n",
    "Main = []\n",
    "Date = []"
   ]
  },
  {
   "cell_type": "code",
   "execution_count": 59,
   "metadata": {},
   "outputs": [],
   "source": [
    "url = \"https://www.instagram.com/graphql/query/?query_hash=8c2a529969ee035a5063f2fc8602a0fd&variables=%7B%22id%22%3A%22259533357%22%2C%22first%22%3A55%2C%22after%22%3A%22QVFBdkNydzloNmJTUndjamJaVmV4QVBTVmJtNkFoTHZ4ZklwOVR2U0NJaDlRcE9hanQ4TEFLUXlCN2xmaDFLaU5Fc0JIZklFNUJhdU1YV3ZfeS1GRVdnQQ%3D%3D%22%7D\"\n",
    "url_format = \"https://www.instagram.com/graphql/query/?query_hash=8c2a529969ee035a5063f2fc8602a0fd&variables=%7B%22id%22%3A%22259533357%22%2C%22first%22%3A55%2C%22after%22%3A%22{}%3D%3D%22%7D\""
   ]
  },
  {
   "cell_type": "code",
   "execution_count": 9,
   "metadata": {},
   "outputs": [],
   "source": [
    "driver = webdriver.Chrome(\"C:\\\\Users\\\\shic\\\\chromedriver_win32\\\\chromedriver.exe\")"
   ]
  },
  {
   "cell_type": "code",
   "execution_count": 60,
   "metadata": {},
   "outputs": [],
   "source": [
    "target_time = time.mktime(datetime.datetime.strptime(\"2010-01-01\",'%Y-%m-%d').timetuple())"
   ]
  },
  {
   "cell_type": "code",
   "execution_count": 67,
   "metadata": {},
   "outputs": [
    {
     "ename": "KeyError",
     "evalue": "'data'",
     "output_type": "error",
     "traceback": [
      "\u001b[1;31m---------------------------------------------------------------------------\u001b[0m",
      "\u001b[1;31mKeyboardInterrupt\u001b[0m                         Traceback (most recent call last)",
      "\u001b[1;32m<ipython-input-67-e33aac70da00>\u001b[0m in \u001b[0;36m<module>\u001b[1;34m\u001b[0m\n\u001b[0;32m      4\u001b[0m         \u001b[1;32mif\u001b[0m \u001b[0mjson\u001b[0m\u001b[1;33m.\u001b[0m\u001b[0mloads\u001b[0m\u001b[1;33m(\u001b[0m\u001b[0mBeautifulSoup\u001b[0m\u001b[1;33m(\u001b[0m\u001b[0mdriver\u001b[0m\u001b[1;33m.\u001b[0m\u001b[0mpage_source\u001b[0m\u001b[1;33m,\u001b[0m\u001b[1;34m\"html.parser\"\u001b[0m\u001b[1;33m)\u001b[0m\u001b[1;33m.\u001b[0m\u001b[0mtext\u001b[0m\u001b[1;33m)\u001b[0m\u001b[1;33m[\u001b[0m\u001b[1;34m'message'\u001b[0m\u001b[1;33m]\u001b[0m \u001b[1;33m==\u001b[0m \u001b[1;34m\"rate limited\"\u001b[0m\u001b[1;33m:\u001b[0m\u001b[1;33m\u001b[0m\u001b[1;33m\u001b[0m\u001b[0m\n\u001b[1;32m----> 5\u001b[1;33m             \u001b[0mtime\u001b[0m\u001b[1;33m.\u001b[0m\u001b[0msleep\u001b[0m\u001b[1;33m(\u001b[0m\u001b[1;36m10\u001b[0m\u001b[1;33m)\u001b[0m\u001b[1;33m\u001b[0m\u001b[1;33m\u001b[0m\u001b[0m\n\u001b[0m\u001b[0;32m      6\u001b[0m             \u001b[1;32mcontinue\u001b[0m\u001b[1;33m\u001b[0m\u001b[1;33m\u001b[0m\u001b[0m\n",
      "\u001b[1;31mKeyboardInterrupt\u001b[0m: ",
      "\nDuring handling of the above exception, another exception occurred:\n",
      "\u001b[1;31mKeyError\u001b[0m                                  Traceback (most recent call last)",
      "\u001b[1;32m<ipython-input-67-e33aac70da00>\u001b[0m in \u001b[0;36m<module>\u001b[1;34m\u001b[0m\n\u001b[0;32m      6\u001b[0m             \u001b[1;32mcontinue\u001b[0m\u001b[1;33m\u001b[0m\u001b[1;33m\u001b[0m\u001b[0m\n\u001b[0;32m      7\u001b[0m     \u001b[1;32mexcept\u001b[0m\u001b[1;33m:\u001b[0m\u001b[1;33m\u001b[0m\u001b[1;33m\u001b[0m\u001b[0m\n\u001b[1;32m----> 8\u001b[1;33m         \u001b[0mjs\u001b[0m \u001b[1;33m=\u001b[0m \u001b[0mjson\u001b[0m\u001b[1;33m.\u001b[0m\u001b[0mloads\u001b[0m\u001b[1;33m(\u001b[0m\u001b[0mBeautifulSoup\u001b[0m\u001b[1;33m(\u001b[0m\u001b[0mdriver\u001b[0m\u001b[1;33m.\u001b[0m\u001b[0mpage_source\u001b[0m\u001b[1;33m,\u001b[0m\u001b[1;34m\"html.parser\"\u001b[0m\u001b[1;33m)\u001b[0m\u001b[1;33m.\u001b[0m\u001b[0mtext\u001b[0m\u001b[1;33m)\u001b[0m\u001b[1;33m[\u001b[0m\u001b[1;34m'data'\u001b[0m\u001b[1;33m]\u001b[0m\u001b[1;33m[\u001b[0m\u001b[1;34m'user'\u001b[0m\u001b[1;33m]\u001b[0m\u001b[1;33m[\u001b[0m\u001b[1;34m'edge_owner_to_timeline_media'\u001b[0m\u001b[1;33m]\u001b[0m\u001b[1;33m\u001b[0m\u001b[1;33m\u001b[0m\u001b[0m\n\u001b[0m\u001b[0;32m      9\u001b[0m         \u001b[1;32mfor\u001b[0m \u001b[0mnum\u001b[0m \u001b[1;32min\u001b[0m \u001b[0mrange\u001b[0m\u001b[1;33m(\u001b[0m\u001b[0mlen\u001b[0m\u001b[1;33m(\u001b[0m\u001b[0mjs\u001b[0m\u001b[1;33m[\u001b[0m\u001b[1;34m'edges'\u001b[0m\u001b[1;33m]\u001b[0m\u001b[1;33m)\u001b[0m\u001b[1;33m)\u001b[0m\u001b[1;33m:\u001b[0m\u001b[1;33m\u001b[0m\u001b[1;33m\u001b[0m\u001b[0m\n\u001b[0;32m     10\u001b[0m             \u001b[1;32mif\u001b[0m \u001b[0mlen\u001b[0m\u001b[1;33m(\u001b[0m\u001b[0mjs\u001b[0m\u001b[1;33m[\u001b[0m\u001b[1;34m'edges'\u001b[0m\u001b[1;33m]\u001b[0m\u001b[1;33m[\u001b[0m\u001b[0mnum\u001b[0m\u001b[1;33m]\u001b[0m\u001b[1;33m[\u001b[0m\u001b[1;34m'node'\u001b[0m\u001b[1;33m]\u001b[0m\u001b[1;33m[\u001b[0m\u001b[1;34m'edge_media_to_caption'\u001b[0m\u001b[1;33m]\u001b[0m\u001b[1;33m[\u001b[0m\u001b[1;34m'edges'\u001b[0m\u001b[1;33m]\u001b[0m\u001b[1;33m)\u001b[0m \u001b[1;33m==\u001b[0m \u001b[1;36m0\u001b[0m\u001b[1;33m:\u001b[0m\u001b[1;33m\u001b[0m\u001b[1;33m\u001b[0m\u001b[0m\n",
      "\u001b[1;31mKeyError\u001b[0m: 'data'"
     ]
    }
   ],
   "source": [
    "while 1:\n",
    "    driver.get(url)\n",
    "    try :\n",
    "        if json.loads(BeautifulSoup(driver.page_source,\"html.parser\").text)['message'] == \"rate limited\":\n",
    "            time.sleep(10)\n",
    "            continue\n",
    "    except:    \n",
    "        js = json.loads(BeautifulSoup(driver.page_source,\"html.parser\").text)['data']['user']['edge_owner_to_timeline_media']\n",
    "        for num in range(len(js['edges'])):\n",
    "            if len(js['edges'][num]['node']['edge_media_to_caption']['edges']) == 0:\n",
    "                continue\n",
    "            else:\n",
    "                ID.append(js['edges'][num]['node']['shortcode']) # ID\n",
    "                Like_count.append(js['edges'][num]['node']['edge_media_preview_like']['count']) # 좋아요 수\n",
    "                Comment_count.append(js['edges'][num]['node']['edge_media_to_comment']['count']) # 댓글 수\n",
    "                mm = \" \".join([js['edges'][num]['node']['edge_media_to_caption']['edges'][tmp]['node']['text'] for tmp in range(len(js['edges'][num]['node']['edge_media_to_caption']['edges']))]).replace(\"\\u2060\",\"\").replace(\"\\n\",\"\")\n",
    "                Main.append(mm) # 본문\n",
    "                Date.append(datetime.datetime.fromtimestamp(int(js['edges'][num]['node']['taken_at_timestamp'])).strftime('%Y-%m-%d %H:%M:%S')) # Date\n",
    "        url = url_format.format(js['page_info']['end_cursor'][:-2])\n",
    "        if int(js['edges'][num]['node']['taken_at_timestamp']) < target_time:\n",
    "            break\n",
    "        else:\n",
    "            time.sleep(1)\n",
    "    "
   ]
  },
  {
   "cell_type": "code",
   "execution_count": 73,
   "metadata": {},
   "outputs": [],
   "source": [
    "CNBC = pd.DataFrame({\"ID\":ID,\n",
    "                     \"Like_count\":Like_count,\n",
    "                     \"Comment_count\":Comment_count,\n",
    "                     \"Main\":Main,\n",
    "                     \"Date\":Date,\n",
    "                     \"Chanel\":\"CNBC\"})"
   ]
  },
  {
   "cell_type": "code",
   "execution_count": 76,
   "metadata": {},
   "outputs": [],
   "source": [
    "CNBC = CNBC.drop_duplicates()"
   ]
  },
  {
   "cell_type": "code",
   "execution_count": 77,
   "metadata": {},
   "outputs": [],
   "source": [
    "CNBC.to_csv(\"C:/Users/shic/Desktop/DH/price/CNBC.csv\")"
   ]
  },
  {
   "cell_type": "code",
   "execution_count": 78,
   "metadata": {},
   "outputs": [
    {
     "data": {
      "text/html": [
       "<div>\n",
       "<style scoped>\n",
       "    .dataframe tbody tr th:only-of-type {\n",
       "        vertical-align: middle;\n",
       "    }\n",
       "\n",
       "    .dataframe tbody tr th {\n",
       "        vertical-align: top;\n",
       "    }\n",
       "\n",
       "    .dataframe thead th {\n",
       "        text-align: right;\n",
       "    }\n",
       "</style>\n",
       "<table border=\"1\" class=\"dataframe\">\n",
       "  <thead>\n",
       "    <tr style=\"text-align: right;\">\n",
       "      <th></th>\n",
       "      <th>ID</th>\n",
       "      <th>Like_count</th>\n",
       "      <th>Comment_count</th>\n",
       "      <th>Main</th>\n",
       "      <th>Date</th>\n",
       "      <th>Chanel</th>\n",
       "    </tr>\n",
       "  </thead>\n",
       "  <tbody>\n",
       "    <tr>\n",
       "      <th>0</th>\n",
       "      <td>CReawu6gy4t</td>\n",
       "      <td>7918</td>\n",
       "      <td>246</td>\n",
       "      <td>Sometimes it takes a major life event to push ...</td>\n",
       "      <td>2021-07-19 01:30:28</td>\n",
       "      <td>CNBC</td>\n",
       "    </tr>\n",
       "    <tr>\n",
       "      <th>1</th>\n",
       "      <td>CReC0XfJW4g</td>\n",
       "      <td>5993</td>\n",
       "      <td>209</td>\n",
       "      <td>The Amazon rainforest is emitting more carbon ...</td>\n",
       "      <td>2021-07-18 22:01:54</td>\n",
       "      <td>CNBC</td>\n",
       "    </tr>\n",
       "    <tr>\n",
       "      <th>2</th>\n",
       "      <td>CRc6m8hL2Kf</td>\n",
       "      <td>5072</td>\n",
       "      <td>162</td>\n",
       "      <td>China’s share of global bitcoin mining plunged...</td>\n",
       "      <td>2021-07-18 11:30:14</td>\n",
       "      <td>CNBC</td>\n",
       "    </tr>\n",
       "    <tr>\n",
       "      <th>3</th>\n",
       "      <td>CRcYStpD4Ue</td>\n",
       "      <td>8866</td>\n",
       "      <td>220</td>\n",
       "      <td>Facebook CEO Mark Zuckerberg this week announc...</td>\n",
       "      <td>2021-07-18 06:30:19</td>\n",
       "      <td>CNBC</td>\n",
       "    </tr>\n",
       "    <tr>\n",
       "      <th>4</th>\n",
       "      <td>CRcATTNLQBF</td>\n",
       "      <td>6472</td>\n",
       "      <td>101</td>\n",
       "      <td>The ability to create strong relationships is ...</td>\n",
       "      <td>2021-07-18 03:01:37</td>\n",
       "      <td>CNBC</td>\n",
       "    </tr>\n",
       "    <tr>\n",
       "      <th>...</th>\n",
       "      <td>...</td>\n",
       "      <td>...</td>\n",
       "      <td>...</td>\n",
       "      <td>...</td>\n",
       "      <td>...</td>\n",
       "      <td>...</td>\n",
       "    </tr>\n",
       "    <tr>\n",
       "      <th>10158</th>\n",
       "      <td>SxlCcutHle</td>\n",
       "      <td>14</td>\n",
       "      <td>0</td>\n",
       "      <td>Pizza for breakfast on @squawkcnbc. Don't mind...</td>\n",
       "      <td>2012-12-03 21:38:33</td>\n",
       "      <td>CNBC</td>\n",
       "    </tr>\n",
       "    <tr>\n",
       "      <th>10159</th>\n",
       "      <td>SqXZ2CNHlb</td>\n",
       "      <td>7</td>\n",
       "      <td>0</td>\n",
       "      <td>Markets reporter @bobpisani wrapping up a segm...</td>\n",
       "      <td>2012-12-01 02:24:43</td>\n",
       "      <td>CNBC</td>\n",
       "    </tr>\n",
       "    <tr>\n",
       "      <th>10160</th>\n",
       "      <td>SqRw-qNHgt</td>\n",
       "      <td>10</td>\n",
       "      <td>0</td>\n",
       "      <td>Hey, it's @carlquintanilla LIVE from #post9.</td>\n",
       "      <td>2012-12-01 01:35:27</td>\n",
       "      <td>CNBC</td>\n",
       "    </tr>\n",
       "    <tr>\n",
       "      <th>10161</th>\n",
       "      <td>SqO9PKtHu0</td>\n",
       "      <td>16</td>\n",
       "      <td>0</td>\n",
       "      <td>It's the last trading day in November. We're t...</td>\n",
       "      <td>2012-12-01 01:10:55</td>\n",
       "      <td>CNBC</td>\n",
       "    </tr>\n",
       "    <tr>\n",
       "      <th>10162</th>\n",
       "      <td>SgfFCEtHqM</td>\n",
       "      <td>9</td>\n",
       "      <td>0</td>\n",
       "      <td>The breaking news team hard at work on Electio...</td>\n",
       "      <td>2012-11-27 06:19:23</td>\n",
       "      <td>CNBC</td>\n",
       "    </tr>\n",
       "  </tbody>\n",
       "</table>\n",
       "<p>10120 rows × 6 columns</p>\n",
       "</div>"
      ],
      "text/plain": [
       "                ID  Like_count  Comment_count  \\\n",
       "0      CReawu6gy4t        7918            246   \n",
       "1      CReC0XfJW4g        5993            209   \n",
       "2      CRc6m8hL2Kf        5072            162   \n",
       "3      CRcYStpD4Ue        8866            220   \n",
       "4      CRcATTNLQBF        6472            101   \n",
       "...            ...         ...            ...   \n",
       "10158   SxlCcutHle          14              0   \n",
       "10159   SqXZ2CNHlb           7              0   \n",
       "10160   SqRw-qNHgt          10              0   \n",
       "10161   SqO9PKtHu0          16              0   \n",
       "10162   SgfFCEtHqM           9              0   \n",
       "\n",
       "                                                    Main                 Date  \\\n",
       "0      Sometimes it takes a major life event to push ...  2021-07-19 01:30:28   \n",
       "1      The Amazon rainforest is emitting more carbon ...  2021-07-18 22:01:54   \n",
       "2      China’s share of global bitcoin mining plunged...  2021-07-18 11:30:14   \n",
       "3      Facebook CEO Mark Zuckerberg this week announc...  2021-07-18 06:30:19   \n",
       "4      The ability to create strong relationships is ...  2021-07-18 03:01:37   \n",
       "...                                                  ...                  ...   \n",
       "10158  Pizza for breakfast on @squawkcnbc. Don't mind...  2012-12-03 21:38:33   \n",
       "10159  Markets reporter @bobpisani wrapping up a segm...  2012-12-01 02:24:43   \n",
       "10160       Hey, it's @carlquintanilla LIVE from #post9.  2012-12-01 01:35:27   \n",
       "10161  It's the last trading day in November. We're t...  2012-12-01 01:10:55   \n",
       "10162  The breaking news team hard at work on Electio...  2012-11-27 06:19:23   \n",
       "\n",
       "      Chanel  \n",
       "0       CNBC  \n",
       "1       CNBC  \n",
       "2       CNBC  \n",
       "3       CNBC  \n",
       "4       CNBC  \n",
       "...      ...  \n",
       "10158   CNBC  \n",
       "10159   CNBC  \n",
       "10160   CNBC  \n",
       "10161   CNBC  \n",
       "10162   CNBC  \n",
       "\n",
       "[10120 rows x 6 columns]"
      ]
     },
     "execution_count": 78,
     "metadata": {},
     "output_type": "execute_result"
    }
   ],
   "source": [
    "CNBC"
   ]
  },
  {
   "cell_type": "code",
   "execution_count": 105,
   "metadata": {},
   "outputs": [],
   "source": [
    "url = \"https://www.instagram.com/graphql/query/?query_hash=8c2a529969ee035a5063f2fc8602a0fd&variables=%7B%22id%22%3A%222955659478%22%2C%22first%22%3A55\""
   ]
  },
  {
   "cell_type": "code",
   "execution_count": 106,
   "metadata": {},
   "outputs": [],
   "source": [
    "after = \"\"\n",
    "end = \"%7D\""
   ]
  },
  {
   "cell_type": "code",
   "execution_count": 107,
   "metadata": {},
   "outputs": [
    {
     "ename": "KeyboardInterrupt",
     "evalue": "",
     "output_type": "error",
     "traceback": [
      "\u001b[1;31m---------------------------------------------------------------------------\u001b[0m",
      "\u001b[1;31mKeyError\u001b[0m                                  Traceback (most recent call last)",
      "\u001b[1;32m<ipython-input-107-b02064186966>\u001b[0m in \u001b[0;36m<module>\u001b[1;34m\u001b[0m\n\u001b[0;32m      9\u001b[0m     \u001b[1;32mtry\u001b[0m\u001b[1;33m:\u001b[0m\u001b[1;33m\u001b[0m\u001b[1;33m\u001b[0m\u001b[0m\n\u001b[1;32m---> 10\u001b[1;33m         \u001b[0mjs\u001b[0m \u001b[1;33m=\u001b[0m \u001b[0mjson\u001b[0m\u001b[1;33m.\u001b[0m\u001b[0mloads\u001b[0m\u001b[1;33m(\u001b[0m\u001b[0mBeautifulSoup\u001b[0m\u001b[1;33m(\u001b[0m\u001b[0mdriver\u001b[0m\u001b[1;33m.\u001b[0m\u001b[0mpage_source\u001b[0m\u001b[1;33m,\u001b[0m\u001b[1;34m\"html.parser\"\u001b[0m\u001b[1;33m)\u001b[0m\u001b[1;33m.\u001b[0m\u001b[0mtext\u001b[0m\u001b[1;33m)\u001b[0m\u001b[1;33m[\u001b[0m\u001b[1;34m'data'\u001b[0m\u001b[1;33m]\u001b[0m\u001b[1;33m[\u001b[0m\u001b[1;34m'user'\u001b[0m\u001b[1;33m]\u001b[0m\u001b[1;33m[\u001b[0m\u001b[1;34m'edge_owner_to_timeline_media'\u001b[0m\u001b[1;33m]\u001b[0m\u001b[1;33m\u001b[0m\u001b[1;33m\u001b[0m\u001b[0m\n\u001b[0m\u001b[0;32m     11\u001b[0m         \u001b[1;32mfor\u001b[0m \u001b[0mnum\u001b[0m \u001b[1;32min\u001b[0m \u001b[0mrange\u001b[0m\u001b[1;33m(\u001b[0m\u001b[0mlen\u001b[0m\u001b[1;33m(\u001b[0m\u001b[0mjs\u001b[0m\u001b[1;33m[\u001b[0m\u001b[1;34m'edges'\u001b[0m\u001b[1;33m]\u001b[0m\u001b[1;33m)\u001b[0m\u001b[1;33m)\u001b[0m\u001b[1;33m:\u001b[0m\u001b[1;33m\u001b[0m\u001b[1;33m\u001b[0m\u001b[0m\n",
      "\u001b[1;31mKeyError\u001b[0m: 'data'",
      "\nDuring handling of the above exception, another exception occurred:\n",
      "\u001b[1;31mKeyboardInterrupt\u001b[0m                         Traceback (most recent call last)",
      "\u001b[1;32m<ipython-input-107-b02064186966>\u001b[0m in \u001b[0;36m<module>\u001b[1;34m\u001b[0m\n\u001b[0;32m     26\u001b[0m                 \u001b[0mtime\u001b[0m\u001b[1;33m.\u001b[0m\u001b[0msleep\u001b[0m\u001b[1;33m(\u001b[0m\u001b[1;36m1\u001b[0m\u001b[1;33m)\u001b[0m\u001b[1;33m\u001b[0m\u001b[1;33m\u001b[0m\u001b[0m\n\u001b[0;32m     27\u001b[0m     \u001b[1;32mexcept\u001b[0m\u001b[1;33m:\u001b[0m\u001b[1;33m\u001b[0m\u001b[1;33m\u001b[0m\u001b[0m\n\u001b[1;32m---> 28\u001b[1;33m         \u001b[0mtime\u001b[0m\u001b[1;33m.\u001b[0m\u001b[0msleep\u001b[0m\u001b[1;33m(\u001b[0m\u001b[1;36m10\u001b[0m\u001b[1;33m)\u001b[0m\u001b[1;33m\u001b[0m\u001b[1;33m\u001b[0m\u001b[0m\n\u001b[0m",
      "\u001b[1;31mKeyboardInterrupt\u001b[0m: "
     ]
    }
   ],
   "source": [
    "ID = []\n",
    "Like_count = []\n",
    "Comment_count = []\n",
    "Main = []\n",
    "Date = []\n",
    "\n",
    "while 1:\n",
    "    driver.get(url + after + end)\n",
    "    try:    \n",
    "        js = json.loads(BeautifulSoup(driver.page_source,\"html.parser\").text)['data']['user']['edge_owner_to_timeline_media']\n",
    "        for num in range(len(js['edges'])):\n",
    "            if len(js['edges'][num]['node']['edge_media_to_caption']['edges']) == 0:\n",
    "                continue\n",
    "            else:\n",
    "                ID.append(js['edges'][num]['node']['shortcode']) # ID\n",
    "                Like_count.append(js['edges'][num]['node']['edge_media_preview_like']['count']) # 좋아요 수\n",
    "                Comment_count.append(js['edges'][num]['node']['edge_media_to_comment']['count']) # 댓글 수\n",
    "                mm = \" \".join([js['edges'][num]['node']['edge_media_to_caption']['edges'][tmp]['node']['text'] for tmp in range(len(js['edges'][num]['node']['edge_media_to_caption']['edges']))]).replace(\"\\u2060\",\"\").replace(\"\\n\",\"\")\n",
    "                Main.append(mm) # 본문\n",
    "                Date.append(datetime.datetime.fromtimestamp(int(js['edges'][num]['node']['taken_at_timestamp'])).strftime('%Y-%m-%d %H:%M:%S')) # Date\n",
    "        after = \"%2C%22after%22%3A%22{}%3D%3D%22\".format(js['page_info']['end_cursor'][:-2])\n",
    "#        url = url_format.format(js['page_info']['end_cursor'][:-2])\n",
    "        if int(js['edges'][num]['node']['taken_at_timestamp']) < target_time:\n",
    "            break\n",
    "        else:\n",
    "                time.sleep(1)\n",
    "    except:\n",
    "        time.sleep(10)\n"
   ]
  },
  {
   "cell_type": "code",
   "execution_count": 108,
   "metadata": {},
   "outputs": [],
   "source": [
    "herald = pd.DataFrame({\"ID\":ID,\n",
    "                     \"Like_count\":Like_count,\n",
    "                     \"Comment_count\":Comment_count,\n",
    "                     \"Main\":Main,\n",
    "                     \"Date\":Date,\n",
    "                     \"Chanel\":\"Herald\"})"
   ]
  },
  {
   "cell_type": "code",
   "execution_count": 114,
   "metadata": {},
   "outputs": [],
   "source": [
    "instagram = pd.concat([CNBC,herald],\n",
    "                      ignore_index=True)"
   ]
  },
  {
   "cell_type": "code",
   "execution_count": 115,
   "metadata": {},
   "outputs": [],
   "source": [
    "instagram.to_csv(\"C:/Users/shic/Desktop/DH/price/instagram.csv\")"
   ]
  }
 ],
 "metadata": {
  "kernelspec": {
   "display_name": "Python 3",
   "language": "python",
   "name": "python3"
  },
  "language_info": {
   "codemirror_mode": {
    "name": "ipython",
    "version": 3
   },
   "file_extension": ".py",
   "mimetype": "text/x-python",
   "name": "python",
   "nbconvert_exporter": "python",
   "pygments_lexer": "ipython3",
   "version": "3.8.8"
  }
 },
 "nbformat": 4,
 "nbformat_minor": 4
}
