{
 "cells": [
  {
   "cell_type": "code",
   "execution_count": 1,
   "id": "5d19b0e6",
   "metadata": {},
   "outputs": [],
   "source": [
    "import urllib.request as req\n",
    "from bs4 import BeautifulSoup\n",
    "import pandas as pd\n",
    "import time\n",
    "import numpy as np\n",
    "from datetime import datetime"
   ]
  },
  {
   "cell_type": "code",
   "execution_count": 2,
   "id": "730d7bf9",
   "metadata": {},
   "outputs": [],
   "source": [
    "def ftn(date,page):\n",
    "    url = 'https://finance.naver.com/news/news_list.nhn?mode=RANK&date={}&page={}'.format(date,str(page))\n",
    "    res = req.urlopen(url)\n",
    "    soup = BeautifulSoup(res,\"lxml\")\n",
    "\n",
    "    tmp_soup = soup.find(\"ul\",class_=\"newsList\").find_all(\"a\")\n",
    "    title = [x.get(\"title\") for x in tmp_soup]\n",
    "    href = [x.get(\"href\") for x in tmp_soup]\n",
    "    press = [x.text.strip() for x in soup.find_all(\"span\",class_ = \"press\")]\n",
    "    \n",
    "    return pd.DataFrame({\"Title\":title,\n",
    "                        \"Href\":href,\n",
    "                        \"Date\":date,\n",
    "                        \"Press\":press})"
   ]
  },
  {
   "cell_type": "code",
   "execution_count": null,
   "id": "53849874",
   "metadata": {},
   "outputs": [
    {
     "name": "stdout",
     "output_type": "stream",
     "text": [
      "20070101\n",
      "20070102\n",
      "20070103\n",
      "20070104\n",
      "20070105\n",
      "20070106\n",
      "20070107\n",
      "20070108\n",
      "20070109\n",
      "20070110\n",
      "20070111\n",
      "20070112\n",
      "20070113\n",
      "20070114\n",
      "20070115\n",
      "20070116\n",
      "20070117\n",
      "20070118\n",
      "20070119\n",
      "20070120\n",
      "20070121\n",
      "20070122\n",
      "20070123\n",
      "20070124\n",
      "20070125\n"
     ]
    }
   ],
   "source": [
    "Total = pd.DataFrame({\"Title\":[],\n",
    "                        \"Href\":[],\n",
    "                        \"Date\":[],\n",
    "                        \"Press\":[]})\n",
    "for yy in range(2007,2022):\n",
    "    for mm in range(1,13):\n",
    "        for dd in range(1,32):\n",
    "            date = str(yy*10000+mm*100+dd)\n",
    "            res = req.urlopen(\"https://finance.naver.com/news/news_list.nhn?mode=RANK&date={}&page=1\".format(date))\n",
    "            soup = BeautifulSoup(res,\"lxml\")\n",
    "            if len(soup.find(\"ul\",class_=\"newsList\").find_all(\"a\")) == 0:\n",
    "                continue\n",
    "            try:\n",
    "                Last_page = int(soup.find(\"td\",class_ = \"pgRR\").find(\"a\").get(\"href\").split(\"=\")[-1])\n",
    "                date_total = pd.concat([ftn(date,page) for page in range(1,Last_page+1)]\n",
    "                                  ,ignore_index=True)\n",
    "            except:\n",
    "                date_total = ftn(date,1)\n",
    "            Total = pd.concat([Total,date_total])\n",
    "            print(date)"
   ]
  }
 ],
 "metadata": {
  "kernelspec": {
   "display_name": "Python 3",
   "language": "python",
   "name": "python3"
  },
  "language_info": {
   "codemirror_mode": {
    "name": "ipython",
    "version": 3
   },
   "file_extension": ".py",
   "mimetype": "text/x-python",
   "name": "python",
   "nbconvert_exporter": "python",
   "pygments_lexer": "ipython3",
   "version": "3.8.8"
  }
 },
 "nbformat": 4,
 "nbformat_minor": 5
}
