{
 "cells": [
  {
   "cell_type": "markdown",
   "id": "cd64d2e9",
   "metadata": {},
   "source": [
    "### RAA_미국주요지수\n",
    "\n",
    "    1. Web : https://finance.naver.com/world/\n",
    "\n",
    "    2. 해외증시\n",
    "        a. 나스닥 종합[symbol : NAS@IXIC]\n",
    "        b. S&P500[symbol : SPI@SPX]\n",
    "        c. 다우 산업[symbol : DJI@DJI]\n",
    "\n",
    "    3. ftn : \n",
    "        a.\"https://finance.naver.com/world/worldDayListJson.nhn?symbol={}&fdtc=0&page={}\" 해당 URL에 symbol 과 페이지 번호(1~) 번호가 커질 수록 오래된 데이터"
   ]
  },
  {
   "cell_type": "code",
   "execution_count": 1,
   "id": "3e662731",
   "metadata": {},
   "outputs": [],
   "source": [
    "import requests\n",
    "import pandas as pd\n",
    "from bs4 import BeautifulSoup\n",
    "from time import sleep\n",
    "import json\n",
    "import urllib.request as req"
   ]
  },
  {
   "cell_type": "code",
   "execution_count": null,
   "id": "2e2447cf",
   "metadata": {},
   "outputs": [],
   "source": [
    "cate = [];date = [];clos = []; diff = [];Open = [];high = [];low = []\n",
    "\n",
    "def ftn(symbol,page):\n",
    "    data = {\"Query String Parameters\": {'symbol': symbol,\n",
    "                                    'fdtc': '0',\n",
    "                                    'page': page}}\n",
    "    req_header = {\n",
    "    \"authority\": \"finance.naver.com\",\n",
    "    \"method\": \"POST\",\n",
    "    \"path\": '/world/worldDayListJson.nhn?symbol={}&fdtc=0&page={}'.format(symbol,page),\n",
    "    \"scheme\": 'https',\n",
    "    \"accept\": '*/*',\n",
    "    \"accept-encoding\": 'gzip, deflate, br',\n",
    "    \"accept-language\": 'ko-KR,ko;q=0.9,en-US;q=0.8,en;q=0.7',\n",
    "    \"charset\": 'utf-8',\n",
    "    \"content-length\": '0',\n",
    "    'content-type': 'application/x-www-form-urlencoded; charset=utf-8',\n",
    "    \"cookie\": 'NNB=VPHDOERS5XSGA; summary_item_type=recent; nx_ssl=2; naver_stock_codeList=086790%7C064850%7C383800%7C015260%7C003090%7C005930%7C337160%7C365590%7C; BMR=s=1626659707198&r=https%3A%2F%2Fm.blog.naver.com%2Fmegafollow%2F221491355891&r2=https%3A%2F%2Fwww.google.com%2F; page_uid=hngOVlp0YiRssEMD7eNssssstZ4-002498; _naver_usersession_=NmwGlLfu6lffO2KxxqOQIA==; JSESSIONID=1955D20367346D47362D0F4E2E4DFAE4',\n",
    "    'origin': 'https://finance.naver.com',\n",
    "    \"referer\": 'https://finance.naver.com/world/sise.nhn?symbol={}'.format(symbol),\n",
    "    \"sec-ch-ua\": 'Not;A Brand\";v=\"99\", \"Google Chrome\";v=\"91\", \"Chromium\";v=\"91',\n",
    "    'sec-ch-ua-mobile': '?0',\n",
    "    'sec-fetch-dest': 'empty',\n",
    "    'sec-fetch-mode': 'cors',\n",
    "    'sec-fetch-site': 'same-origin',\n",
    "    'user-agent': 'Mozilla/5.0 (Windows NT 10.0; Win64; x64) AppleWebKit/537.36 (KHTML, like Gecko) Chrome/91.0.4472.124 Safari/537.36'\n",
    "    }\n",
    "    tmp = json.loads(requests.post(\"https://finance.naver.com/world/worldDayListJson.nhn?symbol={}&fdtc=0&page={}\".format(symbol,page),\n",
    "             data = json.dumps(data),\n",
    "             headers = req_header).text)\n",
    "    for num in range(len(tmp)):\n",
    "        cate.append(tmp[num][\"symb\"])\n",
    "        date.append(tmp[num][\"xymd\"])\n",
    "        clos.append(tmp[num][\"clos\"])\n",
    "        diff.append(tmp[num][\"diff\"])\n",
    "        Open.append(tmp[num][\"open\"])\n",
    "        high.append(tmp[num][\"high\"])\n",
    "        low.append(tmp[num][\"low\"])"
   ]
  },
  {
   "cell_type": "code",
   "execution_count": null,
   "id": "1da8d01f",
   "metadata": {},
   "outputs": [],
   "source": [
    "sym = ['NAS@IXIC',\"SPI@SPX\",\"DJI@DJI\"]\n",
    "for tmp_sym in sym:\n",
    "    for num in range(1,494):\n",
    "        ftn(tmp_sym,str(num))\n",
    "        print(tmp_sym,num)"
   ]
  },
  {
   "cell_type": "code",
   "execution_count": null,
   "id": "e89bac22",
   "metadata": {},
   "outputs": [],
   "source": [
    "World = pd.DataFrame({\"종목\":cate,\n",
    "             \"날짜\":date,\n",
    "             \"종가\":clos,\n",
    "             \"대비\":diff,\n",
    "             \"시가\":Open,\n",
    "             \"고가\":high,\n",
    "             \"저가\":low})\n",
    "World = World.drop_duplicates()\n",
    "World.Date = World.Date.astype(str).map(lambda x : pd.to_datetime(\"-\".join([x[:4],x[4:6],x[6:]])))\n",
    "World['종목'] = World.종목.map(lambda x:x.replace(\"@\",\"_\"))"
   ]
  },
  {
   "cell_type": "code",
   "execution_count": null,
   "id": "a3a39e50",
   "metadata": {},
   "outputs": [],
   "source": [
    "World = World.rename(columns={\n",
    "    \"종목\" : \"해외지수구분코드\",\n",
    "    \"날짜\" : \"기준일자\",\n",
    "    \"종가\" : \"종가지수\",\n",
    "    \"대비\" : \"전일대비증감지수\"\n",
    "})"
   ]
  },
  {
   "cell_type": "code",
   "execution_count": null,
   "id": "ba0364bd",
   "metadata": {},
   "outputs": [],
   "source": [
    "World.loc[:,['기준일자','해외지수구분코드','종가지수','전일대비증감지수']].to_csv('RAA_미국주요지수.csv')"
   ]
  }
 ],
 "metadata": {
  "kernelspec": {
   "display_name": "Python 3",
   "language": "python",
   "name": "python3"
  },
  "language_info": {
   "codemirror_mode": {
    "name": "ipython",
    "version": 3
   },
   "file_extension": ".py",
   "mimetype": "text/x-python",
   "name": "python",
   "nbconvert_exporter": "python",
   "pygments_lexer": "ipython3",
   "version": "3.8.8"
  }
 },
 "nbformat": 4,
 "nbformat_minor": 5
}
